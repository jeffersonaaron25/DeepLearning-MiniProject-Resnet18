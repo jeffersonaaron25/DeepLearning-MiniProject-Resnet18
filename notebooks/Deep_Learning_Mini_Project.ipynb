{
  "cells": [
    {
      "cell_type": "markdown",
      "metadata": {
        "id": "view-in-github",
        "colab_type": "text"
      },
      "source": [
        "<a href=\"https://colab.research.google.com/github/jeffersonaaron25/DeepLearning-MiniProject-Resnet18/blob/main/notebooks/Deep_Learning_Mini_Project.ipynb\" target=\"_parent\"><img src=\"https://colab.research.google.com/assets/colab-badge.svg\" alt=\"Open In Colab\"/></a>"
      ]
    },
    {
      "cell_type": "markdown",
      "metadata": {
        "id": "PMTnNXUsuMRV"
      },
      "source": [
        "# Mini Project - ResNet18 \n",
        "Project Members: \n",
        "Jacob Fishman (jf4322@nyu.edu), Jefferson Aaron Antony Nelsson (ja4568@nyu.edu)"
      ]
    },
    {
      "cell_type": "markdown",
      "metadata": {
        "id": "FcUeoBEyvRCd"
      },
      "source": [
        "Our aim for the codebase of this project is to create a ResNet that would be able to perform well on the CIFAR-10 dataset. Our code and reasoning will be documented throughout this workbook"
      ]
    },
    {
      "cell_type": "markdown",
      "metadata": {
        "id": "0Hk2c01mvfGG"
      },
      "source": [
        "We first will add all of the packages that we will need for this project. If you are looking to run this code you must make sure your machine has these packages available. "
      ]
    },
    {
      "cell_type": "code",
      "execution_count": null,
      "metadata": {
        "id": "zecFFDJTuLLQ"
      },
      "outputs": [],
      "source": [
        "#These are the packages that we loaded in from Homework 2 problem 4 where we worked with the same dataset and created an AlexNet\n",
        "\n",
        "import torch\n",
        "import torch.nn as nn\n",
        "import torch.nn.functional as F\n",
        "import torch.optim as optim\n",
        "from torch.optim.lr_scheduler import _LRScheduler\n",
        "import torch.utils.data as data\n",
        "\n",
        "import torchvision.transforms as transforms\n",
        "import torchvision.datasets as datasets\n",
        "\n",
        "from sklearn import decomposition\n",
        "from sklearn import manifold\n",
        "from sklearn.metrics import confusion_matrix\n",
        "from sklearn.metrics import ConfusionMatrixDisplay\n",
        "import matplotlib.pyplot as plt\n",
        "import numpy as np\n",
        "\n",
        "import copy\n",
        "import random\n"
      ]
    },
    {
      "cell_type": "markdown",
      "metadata": {
        "id": "52h1wZaQwDjx"
      },
      "source": [
        "We will now set a random seed for the project, like we did in Homework 2 Problem 4 when we examined the same dataset"
      ]
    },
    {
      "cell_type": "code",
      "execution_count": null,
      "metadata": {
        "id": "0Ax-XKQNwDJh"
      },
      "outputs": [],
      "source": [
        "#The following code is from Homework 2 Problem 4\n",
        "\n",
        "\n",
        "SEED = 1234\n",
        "\n",
        "random.seed(SEED)\n",
        "np.random.seed(SEED)\n",
        "torch.manual_seed(SEED)\n",
        "torch.cuda.manual_seed(SEED)\n",
        "torch.backends.cudnn.deterministic = True"
      ]
    },
    {
      "cell_type": "markdown",
      "metadata": {
        "id": "aV0tMmhozJzA"
      },
      "source": [
        "# **Loading the Dataset**\n",
        "We will now use the same technique we used in Homework 2 Problem 4 to load the dataset into memory."
      ]
    },
    {
      "cell_type": "code",
      "execution_count": null,
      "metadata": {
        "colab": {
          "base_uri": "https://localhost:8080/"
        },
        "id": "Y6Pa6WsMzXlv",
        "outputId": "1352b78c-abe5-4182-bcbf-40c74684a1f5"
      },
      "outputs": [
        {
          "output_type": "stream",
          "name": "stdout",
          "text": [
            "Downloading https://www.cs.toronto.edu/~kriz/cifar-10-python.tar.gz to .data/cifar-10-python.tar.gz\n"
          ]
        },
        {
          "output_type": "stream",
          "name": "stderr",
          "text": [
            "100%|██████████| 170498071/170498071 [00:13<00:00, 12238877.01it/s]\n"
          ]
        },
        {
          "output_type": "stream",
          "name": "stdout",
          "text": [
            "Extracting .data/cifar-10-python.tar.gz to .data\n"
          ]
        }
      ],
      "source": [
        "#The following code is from Homework 2 Problem 4\n",
        "\n",
        "ROOT = '.data'\n",
        "train_data = datasets.CIFAR10(root = ROOT, \n",
        "                              train = True, \n",
        "                              download = True)"
      ]
    },
    {
      "cell_type": "markdown",
      "metadata": {
        "id": "Qq5ekIpZzJ5s"
      },
      "source": [
        "We will now do data augmentation on the train dataset, and also adjust the colors of the images by normalizing using the mean and standard deviation. We got the idea to do this from Class and Homework 2 Problem 4"
      ]
    },
    {
      "cell_type": "code",
      "execution_count": null,
      "metadata": {
        "id": "aeytW_1pzpnY"
      },
      "outputs": [],
      "source": [
        "#The following code is from Homework 2 Problem 4\n",
        "\n",
        "means = train_data.data.mean(axis = (0,1,2)) / 255\n",
        "stds = train_data.data.std(axis = (0,1,2)) / 255\n",
        "\n",
        "train_transforms = transforms.Compose([\n",
        "                           transforms.RandomRotation(10),\n",
        "                           transforms.RandomHorizontalFlip(0.5),\n",
        "                           transforms.RandomCrop(32, padding = 2),\n",
        "                           transforms.ToTensor(),\n",
        "                           transforms.Normalize(mean = means, \n",
        "                                                std = stds)\n",
        "                       ])\n",
        "\n",
        "test_transforms = transforms.Compose([\n",
        "                           transforms.ToTensor(),\n",
        "                           transforms.Normalize(mean = means, \n",
        "                                                std = stds)\n",
        "                       ])"
      ]
    },
    {
      "cell_type": "markdown",
      "metadata": {
        "id": "Z2IgtcLAz2bB"
      },
      "source": [
        "We now will load the train dataset and the test dataset into memory. We will use the above transformations on the datasets as well."
      ]
    },
    {
      "cell_type": "code",
      "execution_count": null,
      "metadata": {
        "colab": {
          "base_uri": "https://localhost:8080/"
        },
        "id": "jKoIzGjj0BQR",
        "outputId": "32457277-ebc2-4bcb-d58f-748bf4bd5800"
      },
      "outputs": [
        {
          "output_type": "stream",
          "name": "stdout",
          "text": [
            "Files already downloaded and verified\n",
            "Files already downloaded and verified\n"
          ]
        }
      ],
      "source": [
        "#The following code is from Homework 2 Problem 4\n",
        "\n",
        "train_data = datasets.CIFAR10(ROOT, \n",
        "                              train = True, \n",
        "                              download = True, \n",
        "                              transform = train_transforms)\n",
        "\n",
        "test_data = datasets.CIFAR10(ROOT, \n",
        "                             train = False, \n",
        "                             download = True, \n",
        "                             transform = test_transforms)\n",
        "\n"
      ]
    },
    {
      "cell_type": "code",
      "execution_count": null,
      "metadata": {
        "id": "tfpWbFoY8Tka"
      },
      "outputs": [],
      "source": [
        "#The following code is from Homework 2 Problem 4\n",
        "\n",
        "VALID_RATIO = 0.9\n",
        "\n",
        "n_train_examples = int(len(train_data) * VALID_RATIO)\n",
        "n_valid_examples = len(train_data) - n_train_examples\n",
        "\n",
        "train_data, valid_data = data.random_split(train_data, \n",
        "                                           [n_train_examples, n_valid_examples])\n",
        "\n",
        "valid_data = copy.deepcopy(valid_data)\n",
        "valid_data.dataset.transform = test_transforms"
      ]
    },
    {
      "cell_type": "markdown",
      "metadata": {
        "id": "0Yb3ntFe0FZw"
      },
      "source": [
        "We will now use the normalize image function from Homework 2 Problem 4 to help us normalize an image throughout this process"
      ]
    },
    {
      "cell_type": "code",
      "execution_count": null,
      "metadata": {
        "id": "jBxJS-6D0E9y"
      },
      "outputs": [],
      "source": [
        "#The following code is from Homework 2 Problem 4\n",
        "\n",
        "\n",
        "def normalize_image(image):\n",
        "    image_min = image.min()\n",
        "    image_max = image.max()\n",
        "    image.clamp_(min = image_min, max = image_max)\n",
        "    image.add_(-image_min).div_(image_max - image_min + 1e-5)\n",
        "    return image"
      ]
    },
    {
      "cell_type": "markdown",
      "metadata": {
        "id": "0jfQOkvN73Dx"
      },
      "source": [
        "We are now going to assign the Batch Size for the ResNet"
      ]
    },
    {
      "cell_type": "code",
      "execution_count": null,
      "metadata": {
        "id": "T_pkK__27-es"
      },
      "outputs": [],
      "source": [
        "#Here we are using the torch utils function dataloader, which lets us use the batch size for the data loader\n",
        "#This will let us load the data to use for the training in the ResNet\n",
        "\n",
        "BATCH_SIZE = 128 #Here you can change the batch size. Try to keep it in a power of 2, eg 2^2, 2^3 etc\n",
        "\n",
        "#adding shuffle=True for randomness\n",
        "train_iterator = data.DataLoader(train_data, batch_size=BATCH_SIZE, shuffle=True)\n",
        "\n",
        "valid_iterator = data.DataLoader(valid_data, batch_size=BATCH_SIZE)\n",
        "\n",
        "test_iterator = data.DataLoader(test_data, batch_size=BATCH_SIZE)"
      ]
    },
    {
      "cell_type": "markdown",
      "metadata": {
        "id": "ks63WBrMHdee"
      },
      "source": [
        "# **Building the Model**\n",
        "We are now going to build the ResNet, using code from the repository that was linked in the project description:\n",
        "\n",
        "https://github.com/kuangliu/pytorch-cifar\n",
        "\n",
        "We are using the code from the folder models, with the pathway \n",
        "kuangliu /pytorch-cifar/models/resnet.py\n",
        "\n"
      ]
    },
    {
      "cell_type": "code",
      "execution_count": null,
      "metadata": {
        "id": "bLPKuqLHGq0I"
      },
      "outputs": [],
      "source": [
        "#The following class was used from the github link above.\n",
        "#We claim no ownership over the code\n",
        "\n",
        "class BasicBlock(nn.Module):\n",
        "    expansion = 1\n",
        "\n",
        "    def __init__(self, in_planes, planes, stride=1):\n",
        "        super(BasicBlock, self).__init__()\n",
        "        self.conv1 = nn.Conv2d(\n",
        "            in_planes, planes, kernel_size=3, stride=stride, padding=1, bias=False) #Here is where we can change the kernal size, stride, and padding\n",
        "        self.bn1 = nn.BatchNorm2d(planes)\n",
        "        self.relu1 = nn.ReLU(inplace=True)\n",
        "        self.conv2 = nn.Conv2d(planes, planes, kernel_size=3,\n",
        "                               stride=1, padding=1, bias=False)  #Here is where we can change the kernal size, stride, and padding\n",
        "        self.bn2 = nn.BatchNorm2d(planes)\n",
        "        \n",
        "        self.shortcut = nn.Sequential()\n",
        "        if stride != 1 or in_planes != self.expansion*planes:\n",
        "            self.shortcut = nn.Sequential(\n",
        "                nn.Conv2d(in_planes, self.expansion*planes,\n",
        "                          kernel_size=1, stride=stride, bias=False),\n",
        "                nn.BatchNorm2d(self.expansion*planes)\n",
        "            )\n",
        "          \n",
        "\n",
        "    def forward(self, x):\n",
        "        out = F.relu(self.bn1(self.conv1(x)))\n",
        "        out = self.bn2(self.conv2(out))\n",
        "        out += self.shortcut(x)\n",
        "        out = F.relu(out)\n",
        "        return out\n",
        "\n",
        "#The following class was used from the github link above.\n",
        "#We claim no ownership over the code\n",
        "\n",
        "class ResNet(nn.Module):\n",
        "    def __init__(self, block, num_blocks, num_classes=10):\n",
        "        super(ResNet, self).__init__()\n",
        "        self.in_planes = 64\n",
        "\n",
        "        self.conv1 = nn.Conv2d(3, 64, kernel_size=3,\n",
        "                               stride=1, padding=1, bias=False)\n",
        "        self.bn1 = nn.BatchNorm2d(64)\n",
        "        self.layer1 = self._make_layer(block, 64, num_blocks[0], stride=1) #Here we can change the output size from the initial block\n",
        "        self.layer2 = self._make_layer(block, 128, num_blocks[1], stride=2)#Here we can change the output size from the initial block\n",
        "        self.layer3 = self._make_layer(block, 256, num_blocks[2], stride=2)#Here we can change the output size from the initial block\n",
        "        #self.layer4 = self._make_layer(block, 512, num_blocks[3], stride=2)\n",
        "        self.linear = nn.Linear(256*block.expansion, num_classes)\n",
        "\n",
        "    def _make_layer(self, block, planes, num_blocks, stride):\n",
        "        strides = [stride] + [1]*(num_blocks-1)\n",
        "        layers = []\n",
        "        for stride in strides:\n",
        "            layers.append(block(self.in_planes, planes, stride))\n",
        "            self.in_planes = planes * block.expansion\n",
        "        return nn.Sequential(*layers)\n",
        "\n",
        "    def forward(self, x):\n",
        "        out = F.relu(self.bn1(self.conv1(x)))\n",
        "        out = self.layer1(out)\n",
        "        out = self.layer2(out)\n",
        "        out = self.layer3(out)\n",
        "        #out = self.layer4(out)\n",
        "        out = F.avg_pool2d(out, 7) #Here we can change the pooling by adding more of these lines to the forward pass\n",
        "        out = out.view(out.size(0), -1)\n",
        "        out = self.linear(out)\n",
        "        return out\n"
      ]
    },
    {
      "cell_type": "code",
      "execution_count": null,
      "metadata": {
        "id": "Hyovz3o6JzFp"
      },
      "outputs": [],
      "source": [
        "#We now need to create a variable to hold the instant of the model\n",
        "#We will use the defalut inputs to the model that were in the \n",
        "#Code from the codebase in github: https://github.com/kuangliu/pytorch-cifar\n",
        "\n",
        "model = ResNet(BasicBlock, [3,2,3]) #This lets you change the number of layers in each block. This setting gets the parameters below 5M\n"
      ]
    },
    {
      "cell_type": "markdown",
      "metadata": {
        "id": "fHjGQWweNYfO"
      },
      "source": [
        "Now we will use the code from Homework 2 Question 4 to define the learning rate, the loss function, and the device we will use for the model"
      ]
    },
    {
      "cell_type": "code",
      "execution_count": null,
      "metadata": {
        "id": "GoKtjelzNVco"
      },
      "outputs": [],
      "source": [
        "#The following code is from Homework 2 Problem 4\n",
        "\n",
        "optimizer = optim.Adam(model.parameters(), lr = 0.00025)\n",
        "device = torch.device('cuda' if torch.cuda.is_available() else 'cpu')\n",
        "criterion = nn.CrossEntropyLoss()\n",
        "\n",
        "model = model.to(device)\n",
        "criterion = criterion.to(device)\n"
      ]
    },
    {
      "cell_type": "code",
      "execution_count": null,
      "metadata": {
        "colab": {
          "base_uri": "https://localhost:8080/"
        },
        "id": "lFjNfA-XKV9E",
        "outputId": "f3210a3c-dd58-4761-aa0c-44d7a47d77e9"
      },
      "outputs": [
        {
          "output_type": "stream",
          "name": "stdout",
          "text": [
            "----------------------------------------------------------------\n",
            "        Layer (type)               Output Shape         Param #\n",
            "================================================================\n",
            "            Conv2d-1          [256, 64, 28, 28]           1,728\n",
            "       BatchNorm2d-2          [256, 64, 28, 28]             128\n",
            "            Conv2d-3          [256, 64, 28, 28]          36,864\n",
            "       BatchNorm2d-4          [256, 64, 28, 28]             128\n",
            "            Conv2d-5          [256, 64, 28, 28]          36,864\n",
            "       BatchNorm2d-6          [256, 64, 28, 28]             128\n",
            "        BasicBlock-7          [256, 64, 28, 28]               0\n",
            "            Conv2d-8          [256, 64, 28, 28]          36,864\n",
            "       BatchNorm2d-9          [256, 64, 28, 28]             128\n",
            "           Conv2d-10          [256, 64, 28, 28]          36,864\n",
            "      BatchNorm2d-11          [256, 64, 28, 28]             128\n",
            "       BasicBlock-12          [256, 64, 28, 28]               0\n",
            "           Conv2d-13          [256, 64, 28, 28]          36,864\n",
            "      BatchNorm2d-14          [256, 64, 28, 28]             128\n",
            "           Conv2d-15          [256, 64, 28, 28]          36,864\n",
            "      BatchNorm2d-16          [256, 64, 28, 28]             128\n",
            "       BasicBlock-17          [256, 64, 28, 28]               0\n",
            "           Conv2d-18         [256, 128, 14, 14]          73,728\n",
            "      BatchNorm2d-19         [256, 128, 14, 14]             256\n",
            "           Conv2d-20         [256, 128, 14, 14]         147,456\n",
            "      BatchNorm2d-21         [256, 128, 14, 14]             256\n",
            "           Conv2d-22         [256, 128, 14, 14]           8,192\n",
            "      BatchNorm2d-23         [256, 128, 14, 14]             256\n",
            "       BasicBlock-24         [256, 128, 14, 14]               0\n",
            "           Conv2d-25         [256, 128, 14, 14]         147,456\n",
            "      BatchNorm2d-26         [256, 128, 14, 14]             256\n",
            "           Conv2d-27         [256, 128, 14, 14]         147,456\n",
            "      BatchNorm2d-28         [256, 128, 14, 14]             256\n",
            "       BasicBlock-29         [256, 128, 14, 14]               0\n",
            "           Conv2d-30           [256, 256, 7, 7]         294,912\n",
            "      BatchNorm2d-31           [256, 256, 7, 7]             512\n",
            "           Conv2d-32           [256, 256, 7, 7]         589,824\n",
            "      BatchNorm2d-33           [256, 256, 7, 7]             512\n",
            "           Conv2d-34           [256, 256, 7, 7]          32,768\n",
            "      BatchNorm2d-35           [256, 256, 7, 7]             512\n",
            "       BasicBlock-36           [256, 256, 7, 7]               0\n",
            "           Conv2d-37           [256, 256, 7, 7]         589,824\n",
            "      BatchNorm2d-38           [256, 256, 7, 7]             512\n",
            "           Conv2d-39           [256, 256, 7, 7]         589,824\n",
            "      BatchNorm2d-40           [256, 256, 7, 7]             512\n",
            "       BasicBlock-41           [256, 256, 7, 7]               0\n",
            "           Conv2d-42           [256, 256, 7, 7]         589,824\n",
            "      BatchNorm2d-43           [256, 256, 7, 7]             512\n",
            "           Conv2d-44           [256, 256, 7, 7]         589,824\n",
            "      BatchNorm2d-45           [256, 256, 7, 7]             512\n",
            "       BasicBlock-46           [256, 256, 7, 7]               0\n",
            "           Linear-47                  [256, 10]           2,570\n",
            "================================================================\n",
            "Total params: 4,032,330\n",
            "Trainable params: 4,032,330\n",
            "Non-trainable params: 0\n",
            "----------------------------------------------------------------\n",
            "Input size (MB): 2.30\n",
            "Forward/backward pass size (MB): 2670.52\n",
            "Params size (MB): 15.38\n",
            "Estimated Total Size (MB): 2688.20\n",
            "----------------------------------------------------------------\n"
          ]
        }
      ],
      "source": [
        "#In order to check the number of trainable parameters, we will use the torchsummary package\n",
        "\n",
        "import torchsummary\n",
        "\n",
        "torchsummary.summary(model,(3, 28, 28), 256)"
      ]
    },
    {
      "cell_type": "markdown",
      "metadata": {
        "id": "IcwHUtuoOzB-"
      },
      "source": [
        "# **Create Training modules**\n",
        "We will now use the boilerplate code from class to help train and calculate the loss and accuracy of each training epoch"
      ]
    },
    {
      "cell_type": "code",
      "execution_count": null,
      "metadata": {
        "id": "qk6UIfFaPNpR"
      },
      "outputs": [],
      "source": [
        "#The following code is from Homework 2 Problem 4\n",
        "def calculate_accuracy(y_pred, y):\n",
        "    top_pred = y_pred.argmax(1, keepdim = True)\n",
        "    correct = top_pred.eq(y.view_as(top_pred)).sum()\n",
        "    acc = correct.float() / y.shape[0]\n",
        "    return acc"
      ]
    },
    {
      "cell_type": "code",
      "execution_count": null,
      "metadata": {
        "id": "AB1GFxmFPQ-_"
      },
      "outputs": [],
      "source": [
        "#The following code is from Homework 2 Problem 4\n",
        "def train(model, iterator, optimizer, criterion, device):\n",
        "    \n",
        "    epoch_loss = 0\n",
        "    epoch_acc = 0\n",
        "    \n",
        "    model.train()\n",
        "    \n",
        "    for (x, y) in iterator:\n",
        "        \n",
        "        #print(x.shape)\n",
        "\n",
        "        x = x.to(device)\n",
        "        y = y.to(device)\n",
        "        \n",
        "        optimizer.zero_grad()\n",
        "                \n",
        "        y_pred = model(x)\n",
        "        \n",
        "        loss = criterion(y_pred, y)\n",
        "        \n",
        "        acc = calculate_accuracy(y_pred, y)\n",
        "        \n",
        "        loss.backward()\n",
        "        \n",
        "        optimizer.step()\n",
        "        \n",
        "        epoch_loss += loss.item()\n",
        "        epoch_acc += acc.item()\n",
        "        \n",
        "    return epoch_loss / len(iterator), epoch_acc / len(iterator)"
      ]
    },
    {
      "cell_type": "code",
      "execution_count": null,
      "metadata": {
        "id": "fFErbO9EPUcW"
      },
      "outputs": [],
      "source": [
        "#The following code is from Homework 2 Problem 4\n",
        "\n",
        "def evaluate(model, iterator, criterion, device):\n",
        "    \n",
        "    epoch_loss = 0\n",
        "    epoch_acc = 0\n",
        "    \n",
        "    model.eval()\n",
        "    \n",
        "    with torch.no_grad():\n",
        "        \n",
        "        for (x, y) in iterator:\n",
        "            x = x.to(device)\n",
        "            y = y.to(device)\n",
        "\n",
        "            y_pred = model(x)\n",
        "\n",
        "            loss = criterion(y_pred, y)\n",
        "\n",
        "            acc = calculate_accuracy(y_pred, y)\n",
        "\n",
        "            epoch_loss += loss.item()\n",
        "            epoch_acc += acc.item()\n",
        "        \n",
        "    return epoch_loss / len(iterator), epoch_acc / len(iterator)"
      ]
    },
    {
      "cell_type": "code",
      "execution_count": null,
      "metadata": {
        "colab": {
          "base_uri": "https://localhost:8080/"
        },
        "id": "Pvmm898GPZcW",
        "outputId": "522152fb-6fe2-434b-f071-6524d6d52ea7"
      },
      "outputs": [
        {
          "output_type": "stream",
          "name": "stdout",
          "text": [
            "Epoch: 01\n",
            "\tTrain Loss: 1.325 | Train Acc: 51.86%\n",
            "\t Val. Loss: 1.094 |  Val. Acc: 61.97%\n",
            "Epoch: 02\n",
            "\tTrain Loss: 0.891 | Train Acc: 68.73%\n",
            "\t Val. Loss: 0.879 |  Val. Acc: 70.33%\n",
            "Epoch: 03\n",
            "\tTrain Loss: 0.717 | Train Acc: 75.06%\n",
            "\t Val. Loss: 0.833 |  Val. Acc: 72.19%\n",
            "Epoch: 04\n",
            "\tTrain Loss: 0.614 | Train Acc: 78.65%\n",
            "\t Val. Loss: 0.764 |  Val. Acc: 74.20%\n",
            "Epoch: 05\n",
            "\tTrain Loss: 0.546 | Train Acc: 81.15%\n",
            "\t Val. Loss: 0.611 |  Val. Acc: 79.51%\n",
            "Epoch: 06\n",
            "\tTrain Loss: 0.495 | Train Acc: 82.98%\n",
            "\t Val. Loss: 0.542 |  Val. Acc: 81.50%\n",
            "Epoch: 07\n",
            "\tTrain Loss: 0.447 | Train Acc: 84.45%\n",
            "\t Val. Loss: 0.543 |  Val. Acc: 81.48%\n",
            "Epoch: 08\n",
            "\tTrain Loss: 0.412 | Train Acc: 85.65%\n",
            "\t Val. Loss: 0.506 |  Val. Acc: 82.75%\n",
            "Epoch: 09\n",
            "\tTrain Loss: 0.383 | Train Acc: 86.70%\n",
            "\t Val. Loss: 0.458 |  Val. Acc: 84.16%\n",
            "Epoch: 10\n",
            "\tTrain Loss: 0.362 | Train Acc: 87.39%\n",
            "\t Val. Loss: 0.537 |  Val. Acc: 81.84%\n",
            "Epoch: 11\n",
            "\tTrain Loss: 0.335 | Train Acc: 88.34%\n",
            "\t Val. Loss: 0.468 |  Val. Acc: 85.12%\n",
            "Epoch: 12\n",
            "\tTrain Loss: 0.314 | Train Acc: 89.05%\n",
            "\t Val. Loss: 0.410 |  Val. Acc: 86.19%\n",
            "Epoch: 13\n",
            "\tTrain Loss: 0.301 | Train Acc: 89.66%\n",
            "\t Val. Loss: 0.412 |  Val. Acc: 86.33%\n",
            "Epoch: 14\n",
            "\tTrain Loss: 0.281 | Train Acc: 90.14%\n",
            "\t Val. Loss: 0.406 |  Val. Acc: 86.50%\n",
            "Epoch: 15\n",
            "\tTrain Loss: 0.267 | Train Acc: 90.77%\n",
            "\t Val. Loss: 0.415 |  Val. Acc: 86.58%\n",
            "Epoch: 16\n",
            "\tTrain Loss: 0.256 | Train Acc: 90.95%\n",
            "\t Val. Loss: 0.393 |  Val. Acc: 86.70%\n",
            "Epoch: 17\n",
            "\tTrain Loss: 0.239 | Train Acc: 91.72%\n",
            "\t Val. Loss: 0.415 |  Val. Acc: 87.01%\n",
            "Epoch: 18\n",
            "\tTrain Loss: 0.222 | Train Acc: 92.22%\n",
            "\t Val. Loss: 0.338 |  Val. Acc: 89.00%\n",
            "Epoch: 19\n",
            "\tTrain Loss: 0.212 | Train Acc: 92.63%\n",
            "\t Val. Loss: 0.409 |  Val. Acc: 86.48%\n",
            "Epoch: 20\n",
            "\tTrain Loss: 0.202 | Train Acc: 92.83%\n",
            "\t Val. Loss: 0.386 |  Val. Acc: 87.68%\n",
            "Epoch: 21\n",
            "\tTrain Loss: 0.197 | Train Acc: 93.05%\n",
            "\t Val. Loss: 0.369 |  Val. Acc: 88.44%\n",
            "Epoch: 22\n",
            "\tTrain Loss: 0.189 | Train Acc: 93.37%\n",
            "\t Val. Loss: 0.369 |  Val. Acc: 88.54%\n",
            "Epoch: 23\n",
            "\tTrain Loss: 0.176 | Train Acc: 93.78%\n",
            "\t Val. Loss: 0.386 |  Val. Acc: 87.56%\n",
            "Epoch: 24\n",
            "\tTrain Loss: 0.175 | Train Acc: 93.77%\n",
            "\t Val. Loss: 0.360 |  Val. Acc: 89.10%\n",
            "Epoch: 25\n",
            "\tTrain Loss: 0.159 | Train Acc: 94.39%\n",
            "\t Val. Loss: 0.383 |  Val. Acc: 88.55%\n",
            "Epoch: 26\n",
            "\tTrain Loss: 0.155 | Train Acc: 94.50%\n",
            "\t Val. Loss: 0.388 |  Val. Acc: 88.71%\n",
            "Epoch: 27\n",
            "\tTrain Loss: 0.149 | Train Acc: 94.75%\n",
            "\t Val. Loss: 0.372 |  Val. Acc: 89.63%\n",
            "Epoch: 28\n",
            "\tTrain Loss: 0.141 | Train Acc: 94.93%\n",
            "\t Val. Loss: 0.376 |  Val. Acc: 89.41%\n",
            "Epoch: 29\n",
            "\tTrain Loss: 0.139 | Train Acc: 95.07%\n",
            "\t Val. Loss: 0.361 |  Val. Acc: 89.53%\n",
            "Epoch: 30\n",
            "\tTrain Loss: 0.129 | Train Acc: 95.48%\n",
            "\t Val. Loss: 0.366 |  Val. Acc: 89.61%\n",
            "Epoch: 31\n",
            "\tTrain Loss: 0.126 | Train Acc: 95.46%\n",
            "\t Val. Loss: 0.332 |  Val. Acc: 90.20%\n",
            "Epoch: 32\n",
            "\tTrain Loss: 0.122 | Train Acc: 95.64%\n",
            "\t Val. Loss: 0.364 |  Val. Acc: 89.65%\n",
            "Epoch: 33\n",
            "\tTrain Loss: 0.115 | Train Acc: 95.87%\n",
            "\t Val. Loss: 0.408 |  Val. Acc: 88.61%\n",
            "Epoch: 34\n",
            "\tTrain Loss: 0.111 | Train Acc: 96.11%\n",
            "\t Val. Loss: 0.348 |  Val. Acc: 89.79%\n",
            "Epoch: 35\n",
            "\tTrain Loss: 0.106 | Train Acc: 96.25%\n",
            "\t Val. Loss: 0.396 |  Val. Acc: 89.32%\n",
            "Epoch: 36\n",
            "\tTrain Loss: 0.101 | Train Acc: 96.41%\n",
            "\t Val. Loss: 0.360 |  Val. Acc: 90.00%\n",
            "Epoch: 37\n",
            "\tTrain Loss: 0.097 | Train Acc: 96.62%\n",
            "\t Val. Loss: 0.371 |  Val. Acc: 89.59%\n",
            "Epoch: 38\n",
            "\tTrain Loss: 0.093 | Train Acc: 96.72%\n",
            "\t Val. Loss: 0.379 |  Val. Acc: 89.55%\n",
            "Epoch: 39\n",
            "\tTrain Loss: 0.093 | Train Acc: 96.59%\n",
            "\t Val. Loss: 0.354 |  Val. Acc: 90.29%\n",
            "Epoch: 40\n",
            "\tTrain Loss: 0.092 | Train Acc: 96.68%\n",
            "\t Val. Loss: 0.399 |  Val. Acc: 89.06%\n",
            "Epoch: 41\n",
            "\tTrain Loss: 0.087 | Train Acc: 96.88%\n",
            "\t Val. Loss: 0.406 |  Val. Acc: 89.32%\n",
            "Epoch: 42\n",
            "\tTrain Loss: 0.078 | Train Acc: 97.30%\n",
            "\t Val. Loss: 0.428 |  Val. Acc: 89.73%\n",
            "Epoch: 43\n",
            "\tTrain Loss: 0.081 | Train Acc: 97.23%\n",
            "\t Val. Loss: 0.377 |  Val. Acc: 89.88%\n",
            "Epoch: 44\n",
            "\tTrain Loss: 0.075 | Train Acc: 97.35%\n",
            "\t Val. Loss: 0.356 |  Val. Acc: 90.51%\n",
            "Epoch: 45\n",
            "\tTrain Loss: 0.080 | Train Acc: 97.20%\n",
            "\t Val. Loss: 0.385 |  Val. Acc: 90.76%\n",
            "Epoch: 46\n",
            "\tTrain Loss: 0.074 | Train Acc: 97.34%\n",
            "\t Val. Loss: 0.416 |  Val. Acc: 89.20%\n",
            "Epoch: 47\n",
            "\tTrain Loss: 0.070 | Train Acc: 97.58%\n",
            "\t Val. Loss: 0.383 |  Val. Acc: 90.37%\n",
            "Epoch: 48\n",
            "\tTrain Loss: 0.066 | Train Acc: 97.67%\n",
            "\t Val. Loss: 0.356 |  Val. Acc: 91.11%\n",
            "Epoch: 49\n",
            "\tTrain Loss: 0.070 | Train Acc: 97.47%\n",
            "\t Val. Loss: 0.403 |  Val. Acc: 89.51%\n",
            "Epoch: 50\n",
            "\tTrain Loss: 0.068 | Train Acc: 97.57%\n",
            "\t Val. Loss: 0.421 |  Val. Acc: 89.75%\n",
            "Epoch: 51\n",
            "\tTrain Loss: 0.059 | Train Acc: 97.94%\n",
            "\t Val. Loss: 0.365 |  Val. Acc: 90.94%\n",
            "Epoch: 52\n",
            "\tTrain Loss: 0.062 | Train Acc: 97.89%\n",
            "\t Val. Loss: 0.369 |  Val. Acc: 90.76%\n",
            "Epoch: 53\n",
            "\tTrain Loss: 0.061 | Train Acc: 97.81%\n",
            "\t Val. Loss: 0.368 |  Val. Acc: 90.47%\n",
            "Epoch: 54\n",
            "\tTrain Loss: 0.057 | Train Acc: 97.99%\n",
            "\t Val. Loss: 0.370 |  Val. Acc: 90.20%\n",
            "Epoch: 55\n",
            "\tTrain Loss: 0.061 | Train Acc: 97.81%\n",
            "\t Val. Loss: 0.428 |  Val. Acc: 89.59%\n",
            "Epoch: 56\n",
            "\tTrain Loss: 0.055 | Train Acc: 98.02%\n",
            "\t Val. Loss: 0.394 |  Val. Acc: 90.20%\n",
            "Epoch: 57\n",
            "\tTrain Loss: 0.057 | Train Acc: 98.02%\n",
            "\t Val. Loss: 0.395 |  Val. Acc: 90.16%\n",
            "Epoch: 58\n",
            "\tTrain Loss: 0.052 | Train Acc: 98.20%\n",
            "\t Val. Loss: 0.338 |  Val. Acc: 91.35%\n",
            "Epoch: 59\n",
            "\tTrain Loss: 0.058 | Train Acc: 98.01%\n",
            "\t Val. Loss: 0.419 |  Val. Acc: 89.90%\n",
            "Epoch: 60\n",
            "\tTrain Loss: 0.049 | Train Acc: 98.30%\n",
            "\t Val. Loss: 0.397 |  Val. Acc: 90.29%\n",
            "Epoch: 61\n",
            "\tTrain Loss: 0.050 | Train Acc: 98.22%\n",
            "\t Val. Loss: 0.443 |  Val. Acc: 90.04%\n",
            "Epoch: 62\n",
            "\tTrain Loss: 0.050 | Train Acc: 98.26%\n",
            "\t Val. Loss: 0.396 |  Val. Acc: 90.86%\n",
            "Epoch: 63\n",
            "\tTrain Loss: 0.049 | Train Acc: 98.29%\n",
            "\t Val. Loss: 0.424 |  Val. Acc: 90.33%\n",
            "Epoch: 64\n",
            "\tTrain Loss: 0.047 | Train Acc: 98.33%\n",
            "\t Val. Loss: 0.423 |  Val. Acc: 90.80%\n",
            "Epoch: 65\n",
            "\tTrain Loss: 0.048 | Train Acc: 98.35%\n",
            "\t Val. Loss: 0.417 |  Val. Acc: 90.72%\n",
            "Epoch: 66\n",
            "\tTrain Loss: 0.047 | Train Acc: 98.35%\n",
            "\t Val. Loss: 0.351 |  Val. Acc: 91.25%\n",
            "Epoch: 67\n",
            "\tTrain Loss: 0.046 | Train Acc: 98.37%\n",
            "\t Val. Loss: 0.415 |  Val. Acc: 90.76%\n",
            "Epoch: 68\n",
            "\tTrain Loss: 0.047 | Train Acc: 98.36%\n",
            "\t Val. Loss: 0.390 |  Val. Acc: 90.64%\n",
            "Epoch: 69\n",
            "\tTrain Loss: 0.042 | Train Acc: 98.49%\n",
            "\t Val. Loss: 0.375 |  Val. Acc: 91.13%\n",
            "Epoch: 70\n",
            "\tTrain Loss: 0.039 | Train Acc: 98.63%\n",
            "\t Val. Loss: 0.400 |  Val. Acc: 90.62%\n",
            "Epoch: 71\n",
            "\tTrain Loss: 0.043 | Train Acc: 98.43%\n",
            "\t Val. Loss: 0.399 |  Val. Acc: 90.88%\n",
            "Epoch: 72\n",
            "\tTrain Loss: 0.041 | Train Acc: 98.58%\n",
            "\t Val. Loss: 0.425 |  Val. Acc: 90.18%\n",
            "Epoch: 73\n",
            "\tTrain Loss: 0.041 | Train Acc: 98.60%\n",
            "\t Val. Loss: 0.413 |  Val. Acc: 91.31%\n",
            "Epoch: 74\n",
            "\tTrain Loss: 0.044 | Train Acc: 98.45%\n",
            "\t Val. Loss: 0.411 |  Val. Acc: 90.90%\n",
            "Epoch: 75\n",
            "\tTrain Loss: 0.039 | Train Acc: 98.67%\n",
            "\t Val. Loss: 0.416 |  Val. Acc: 90.76%\n"
          ]
        }
      ],
      "source": [
        "#The following code is from Homework 2 Question 4\n",
        "#There have been modifications to the code with the answers \n",
        "#From Jacob Fishman's Code that he submitted for the problem\n",
        "\n",
        "# Print out training and validation loss/accuracy of the model after each epoch\n",
        "# Keep track of the model that achieved best validation loss thus far.\n",
        "\n",
        "EPOCHS = 75\n",
        "train_loss = []\n",
        "test_loss = []\n",
        "epoch = []\n",
        "\n",
        "#I first want to create the variables to hold the best model for use later\n",
        "best_model = None\n",
        "best_loss = float('inf')\n",
        "\n",
        "for i in range(EPOCHS):\n",
        "\n",
        "  #I will loop over for the number of epochs, and each time i will use the defined train and evaluate\n",
        "  #classes that were provided to us. \n",
        "  train_epoch_loss, train_epoch_acc = train(model,train_iterator,optimizer,criterion,device)\n",
        "  vaild_epoch_loss, valid_epoch_acc = evaluate(model,valid_iterator, criterion,device)\n",
        "  test_epoch_loss, test_epoch_acc = evaluate(model,test_iterator, criterion,device)\n",
        "  train_loss.append(train_epoch_loss)\n",
        "  test_loss.append(test_epoch_loss)\n",
        "  epoch.append(i)\n",
        "  #Now i will print out the valid loss and accuracy \n",
        "  print(f'Epoch: {i+1:02}')\n",
        "  print(f'\\tTrain Loss: {train_epoch_loss:.3f} | Train Acc: {train_epoch_acc*100:.2f}%')\n",
        "  print(f'\\t Val. Loss: {vaild_epoch_loss:.3f} |  Val. Acc: {valid_epoch_acc*100:.2f}%')\n",
        "  \n",
        "  #Here I will save the best model based off of validation loss\n",
        "\n",
        "  if best_model == None: \n",
        "    best_model = torch.save(model.state_dict(),'tensor.pth')\n",
        "    best_loss = vaild_epoch_loss\n",
        "  elif vaild_epoch_loss < best_loss: #can't we just have this condition to store the best model?\n",
        "    best_model = torch.save(model.state_dict(),'tensor.pth')\n",
        "    best_loss = vaild_epoch_loss\n"
      ]
    },
    {
      "cell_type": "markdown",
      "source": [
        "Now we will plot the training loss with the testing loss over epochs to make sure we are not overfitting the model"
      ],
      "metadata": {
        "id": "zGjH-BLG3f2E"
      }
    },
    {
      "cell_type": "code",
      "source": [
        "plt.plot(epoch, train_loss, label=\"train loss\")\n",
        "plt.plot(epoch,test_loss, label=\"test loss\")\n",
        "plt.xlabel(\"epoch\")\n",
        "plt.ylabel(\"Loss\")\n",
        "plt.title(\"Loss over epochs\")\n",
        "plt.show()"
      ],
      "metadata": {
        "colab": {
          "base_uri": "https://localhost:8080/",
          "height": 472
        },
        "id": "3FQLT_j03lzP",
        "outputId": "849f78cb-4892-42bd-8c68-f81973b6d4a2"
      },
      "execution_count": null,
      "outputs": [
        {
          "output_type": "display_data",
          "data": {
            "text/plain": [
              "<Figure size 640x480 with 1 Axes>"
            ],
            "image/png": "[encoded data removed]"
          },
          "metadata": {}
        }
      ]
    },
    {
      "cell_type": "markdown",
      "metadata": {
        "id": "2GBj-bnbeEou"
      },
      "source": [
        "# **Testing the Best Model**\n",
        "Here we will load in the best model to memory and use it to test on the test set"
      ]
    },
    {
      "cell_type": "code",
      "execution_count": null,
      "metadata": {
        "colab": {
          "base_uri": "https://localhost:8080/"
        },
        "id": "WNXqhOwyeERo",
        "outputId": "9b52462d-c128-4933-b1a9-ca9bd152aebd"
      },
      "outputs": [
        {
          "output_type": "stream",
          "name": "stdout",
          "text": [
            "Test Loss: 0.393 | Test Acc: 91.46%\n"
          ]
        }
      ],
      "source": [
        "#First we will load the best model by creating an instance of the model then loading the weights into the \n",
        "#dummy model\n",
        "best_model = ResNet(BasicBlock, [3,2,3])\n",
        "best_model.load_state_dict(torch.load('tensor.pth'))\n",
        "\n",
        "#Now I will run the best model on the test data\n",
        "best_model = best_model.to(device)\n",
        "test_epoch_loss, test_epoch_acc = evaluate(best_model,test_iterator, criterion,device)\n",
        "print(f'Test Loss: {test_epoch_loss:.3f} | Test Acc: {test_epoch_acc*100:.2f}%')"
      ]
    },
    {
      "cell_type": "code",
      "execution_count": null,
      "metadata": {
        "id": "5GEQYiU4eXq4"
      },
      "outputs": [],
      "source": [
        "#This code is used in Homework 2 Question 4, with the filled out sections by us\n",
        "\n",
        "def get_predictions(model, iterator, device):\n",
        "\n",
        "    model.eval()\n",
        "\n",
        "    labels = []\n",
        "    probs = []\n",
        "\n",
        "    with torch.no_grad():\n",
        "        \n",
        "        for (x, y) in iterator:\n",
        "\n",
        "            x = x.to(device)\n",
        "            y = y.to(device)\n",
        "\n",
        "            y_pred = model(x)\n",
        "            labels.append(y)\n",
        "            probs.append(y_pred)\n",
        "            \n",
        "   \n",
        "    labels = torch.cat(labels, dim = 0)\n",
        "    probs = torch.cat(probs, dim = 0)\n",
        "\n",
        "    return labels, probs"
      ]
    },
    {
      "cell_type": "code",
      "execution_count": null,
      "metadata": {
        "id": "6GsiBhsmeg-6"
      },
      "outputs": [],
      "source": [
        "labels, probs = get_predictions(model, test_iterator, device)\n",
        "pred_labels = torch.argmax(probs, 1)\n"
      ]
    },
    {
      "cell_type": "code",
      "execution_count": null,
      "metadata": {
        "id": "waosOYZZekjn"
      },
      "outputs": [],
      "source": [
        "#This code block is from the Homework2 Question 4\n",
        "def plot_confusion_matrix(labels, pred_labels, classes):\n",
        "    \n",
        "    fig = plt.figure(figsize = (10, 10));\n",
        "    ax = fig.add_subplot(1, 1, 1);\n",
        "    cm = confusion_matrix(labels, pred_labels);\n",
        "    cm = ConfusionMatrixDisplay(cm, display_labels = classes);\n",
        "    cm.plot(values_format = 'd', cmap = 'Blues', ax = ax)\n",
        "    plt.xticks(rotation = 20)"
      ]
    },
    {
      "cell_type": "code",
      "execution_count": null,
      "metadata": {
        "colab": {
          "base_uri": "https://localhost:8080/",
          "height": 815
        },
        "id": "ZXC3q44Qep-E",
        "outputId": "cb67ed72-b5ab-4320-f67a-c397ab62472d"
      },
      "outputs": [
        {
          "output_type": "display_data",
          "data": {
            "text/plain": [
              "<Figure size 1000x1000 with 2 Axes>"
            ],
            "image/png": "[encoded data removed]"
          },
          "metadata": {}
        }
      ],
      "source": [
        "classes = test_data.classes\n",
        "labels = labels.to(\"cpu\")\n",
        "pred_labels = pred_labels.to(\"cpu\")\n",
        "plot_confusion_matrix(labels, pred_labels, classes) "
      ]
    }
  ],
  "metadata": {
    "accelerator": "GPU",
    "colab": {
      "provenance": [],
      "include_colab_link": true
    },
    "gpuClass": "standard",
    "kernelspec": {
      "display_name": "Python 3",
      "name": "python3"
    },
    "language_info": {
      "name": "python"
    }
  },
  "nbformat": 4,
  "nbformat_minor": 0
}