{
  "nbformat": 4,
  "nbformat_minor": 0,
  "metadata": {
    "colab": {
      "provenance": [],
      "include_colab_link": true
    },
    "kernelspec": {
      "name": "python3",
      "display_name": "Python 3"
    },
    "language_info": {
      "name": "python"
    },
    "accelerator": "GPU",
    "gpuClass": "standard"
  },
  "cells": [
    {
      "cell_type": "markdown",
      "metadata": {
        "id": "view-in-github",
        "colab_type": "text"
      },
      "source": [
        "<a href=\"https://colab.research.google.com/github/jeffersonaaron25/DeepLearning-MiniProject-Resnet18/blob/main/notebooks/Deep_Learning_Mini_Project.ipynb\" target=\"_parent\"><img src=\"https://colab.research.google.com/assets/colab-badge.svg\" alt=\"Open In Colab\"/></a>"
      ]
    },
    {
      "cell_type": "markdown",
      "source": [
        "# Mini Project - ResNet18 \n",
        "Project Members: \n",
        "Jacob Fishman (jf4322@nyu.edu), Jefferson Aaron Antony Nelsson (ja4568@nyu.edu)"
      ],
      "metadata": {
        "id": "PMTnNXUsuMRV"
      }
    },
    {
      "cell_type": "markdown",
      "source": [
        "Our aim for the codebase of this project is to create a ResNet that would be able to perform well on the CIFAR-10 dataset. Our code and reasoning will be documented throughout this workbook"
      ],
      "metadata": {
        "id": "FcUeoBEyvRCd"
      }
    },
    {
      "cell_type": "markdown",
      "source": [
        "We first will add all of the packages that we will need for this project. If you are looking to run this code you must make sure your machine has these packages available. "
      ],
      "metadata": {
        "id": "0Hk2c01mvfGG"
      }
    },
    {
      "cell_type": "code",
      "execution_count": null,
      "metadata": {
        "id": "zecFFDJTuLLQ"
      },
      "outputs": [],
      "source": [
        "#These are the packages that we loaded in from Homework 2 problem 4 where we worked with the same dataset and created an AlexNet\n",
        "\n",
        "import torch\n",
        "import torch.nn as nn\n",
        "import torch.nn.functional as F\n",
        "import torch.optim as optim\n",
        "from torch.optim.lr_scheduler import _LRScheduler\n",
        "import torch.utils.data as data\n",
        "\n",
        "import torchvision.transforms as transforms\n",
        "import torchvision.datasets as datasets\n",
        "\n",
        "from sklearn import decomposition\n",
        "from sklearn import manifold\n",
        "from sklearn.metrics import confusion_matrix\n",
        "from sklearn.metrics import ConfusionMatrixDisplay\n",
        "import matplotlib.pyplot as plt\n",
        "import numpy as np\n",
        "\n",
        "import copy\n",
        "import random\n"
      ]
    },
    {
      "cell_type": "markdown",
      "source": [
        "We will now set a random seed for the project, like we did in Homework 2 Problem 4 when we examined the same dataset"
      ],
      "metadata": {
        "id": "52h1wZaQwDjx"
      }
    },
    {
      "cell_type": "code",
      "source": [
        "#The following code is from Homework 2 Problem 4\n",
        "\n",
        "\n",
        "SEED = 1234\n",
        "\n",
        "random.seed(SEED)\n",
        "np.random.seed(SEED)\n",
        "torch.manual_seed(SEED)\n",
        "torch.cuda.manual_seed(SEED)\n",
        "torch.backends.cudnn.deterministic = True"
      ],
      "metadata": {
        "id": "0Ax-XKQNwDJh"
      },
      "execution_count": null,
      "outputs": []
    },
    {
      "cell_type": "markdown",
      "source": [
        "# **Loading the Dataset**\n",
        "We will now use the same technique we used in Homework 2 Problem 4 to load the dataset into memory."
      ],
      "metadata": {
        "id": "aV0tMmhozJzA"
      }
    },
    {
      "cell_type": "code",
      "source": [
        "#The following code is from Homework 2 Problem 4\n",
        "\n",
        "ROOT = '.data'\n",
        "train_data = datasets.CIFAR10(root = ROOT, \n",
        "                              train = True, \n",
        "                              download = True)"
      ],
      "metadata": {
        "colab": {
          "base_uri": "https://localhost:8080/"
        },
        "id": "Y6Pa6WsMzXlv",
        "outputId": "91d5b4a5-d561-4a31-b03b-d8e399fc3cb7"
      },
      "execution_count": null,
      "outputs": [
        {
          "output_type": "stream",
          "name": "stdout",
          "text": [
            "Downloading https://www.cs.toronto.edu/~kriz/cifar-10-python.tar.gz to .data/cifar-10-python.tar.gz\n"
          ]
        },
        {
          "output_type": "stream",
          "name": "stderr",
          "text": [
            "100%|██████████| 170498071/170498071 [00:13<00:00, 12770279.36it/s]\n"
          ]
        },
        {
          "output_type": "stream",
          "name": "stdout",
          "text": [
            "Extracting .data/cifar-10-python.tar.gz to .data\n"
          ]
        }
      ]
    },
    {
      "cell_type": "markdown",
      "source": [
        "We will now do data augmentation on the train dataset, and also adjust the colors of the images by normalizing using the mean and standard deviation. We got the idea to do this from Class and Homework 2 Problem 4"
      ],
      "metadata": {
        "id": "Qq5ekIpZzJ5s"
      }
    },
    {
      "cell_type": "code",
      "source": [
        "#The following code is from Homework 2 Problem 4\n",
        "\n",
        "means = train_data.data.mean(axis = (0,1,2)) / 255\n",
        "stds = train_data.data.std(axis = (0,1,2)) / 255\n",
        "\n",
        "train_transforms = transforms.Compose([\n",
        "                           transforms.RandomRotation(5),\n",
        "                           transforms.RandomHorizontalFlip(0.5),\n",
        "                           transforms.RandomCrop(32, padding = 2),\n",
        "                           transforms.ToTensor(),\n",
        "                           transforms.Normalize(mean = means, \n",
        "                                                std = stds)\n",
        "                       ])\n",
        "\n",
        "test_transforms = transforms.Compose([\n",
        "                           transforms.ToTensor(),\n",
        "                           transforms.Normalize(mean = means, \n",
        "                                                std = stds)\n",
        "                       ])"
      ],
      "metadata": {
        "id": "aeytW_1pzpnY"
      },
      "execution_count": null,
      "outputs": []
    },
    {
      "cell_type": "markdown",
      "source": [
        "We now will load the train dataset and the test dataset into memory. We will use the above transformations on the datasets as well."
      ],
      "metadata": {
        "id": "Z2IgtcLAz2bB"
      }
    },
    {
      "cell_type": "code",
      "source": [
        "#The following code is from Homework 2 Problem 4\n",
        "\n",
        "train_data = datasets.CIFAR10(ROOT, \n",
        "                              train = True, \n",
        "                              download = True, \n",
        "                              transform = train_transforms)\n",
        "\n",
        "test_data = datasets.CIFAR10(ROOT, \n",
        "                             train = False, \n",
        "                             download = True, \n",
        "                             transform = test_transforms)\n",
        "\n"
      ],
      "metadata": {
        "colab": {
          "base_uri": "https://localhost:8080/"
        },
        "id": "jKoIzGjj0BQR",
        "outputId": "fb67ea33-8ef9-48aa-d1f2-5b147363e276"
      },
      "execution_count": null,
      "outputs": [
        {
          "output_type": "stream",
          "name": "stdout",
          "text": [
            "Files already downloaded and verified\n",
            "Files already downloaded and verified\n"
          ]
        }
      ]
    },
    {
      "cell_type": "code",
      "source": [
        "#HAVE TO COME BACK AND SEE IF WE NEED A VALIDATION SET\n",
        "\n",
        "VALID_RATIO = 0.9\n",
        "\n",
        "n_train_examples = int(len(train_data) * VALID_RATIO)\n",
        "n_valid_examples = len(train_data) - n_train_examples\n",
        "\n",
        "train_data, valid_data = data.random_split(train_data, \n",
        "                                           [n_train_examples, n_valid_examples])\n",
        "\n",
        "valid_data = copy.deepcopy(valid_data)\n",
        "valid_data.dataset.transform = test_transforms"
      ],
      "metadata": {
        "id": "tfpWbFoY8Tka"
      },
      "execution_count": null,
      "outputs": []
    },
    {
      "cell_type": "markdown",
      "source": [
        "We will now use the normalize image function from Homework 2 Problem 4 to help us normalize an image throughout this process"
      ],
      "metadata": {
        "id": "0Yb3ntFe0FZw"
      }
    },
    {
      "cell_type": "code",
      "source": [
        "#The following code is from Homework 2 Problem 4\n",
        "\n",
        "\n",
        "def normalize_image(image):\n",
        "    image_min = image.min()\n",
        "    image_max = image.max()\n",
        "    image.clamp_(min = image_min, max = image_max)\n",
        "    image.add_(-image_min).div_(image_max - image_min + 1e-5)\n",
        "    return image"
      ],
      "metadata": {
        "id": "jBxJS-6D0E9y"
      },
      "execution_count": null,
      "outputs": []
    },
    {
      "cell_type": "markdown",
      "source": [
        "We are now going to assign the Batch Size for the ResNet"
      ],
      "metadata": {
        "id": "0jfQOkvN73Dx"
      }
    },
    {
      "cell_type": "code",
      "source": [
        "#Here we are using the torch utils function dataloader, which lets us use the batch size for the data loader\n",
        "#This will let us load the data to use for the training in the ResNet\n",
        "\n",
        "BATCH_SIZE = 256 #Here you can change the batch size. Try to keep it in a power of 2, eg 2^2, 2^3 etc\n",
        "\n",
        "#adding shuffle=True for randomness\n",
        "train_iterator = data.DataLoader(train_data, batch_size=BATCH_SIZE, shuffle=True)\n",
        "\n",
        "valid_iterator = data.DataLoader(valid_data, batch_size=BATCH_SIZE)\n",
        "\n",
        "test_iterator = data.DataLoader(test_data, batch_size=BATCH_SIZE)"
      ],
      "metadata": {
        "id": "T_pkK__27-es"
      },
      "execution_count": null,
      "outputs": []
    },
    {
      "cell_type": "markdown",
      "source": [
        "# **Building the Model**\n",
        "We are now going to build the ResNet, using code from the repository that was linked in the project description:\n",
        "\n",
        "https://github.com/kuangliu/pytorch-cifar\n",
        "\n",
        "We are using the code from the folder models, with the pathway \n",
        "kuangliu /pytorch-cifar/models/resnet.py\n",
        "\n",
        "Depth wise separable convolution:\n",
        "https://towardsdatascience.com/a-basic-introduction-to-separable-convolutions-b99ec3102728\n",
        "\n",
        "\n",
        "https://github.com/seungjunlee96/Depthwise-Separable-Convolution_Pytorch/blob/master/DepthwiseSeparableConvolution/DepthwiseSeparableConvolution.py\n",
        "\n"
      ],
      "metadata": {
        "id": "ks63WBrMHdee"
      }
    },
    {
      "cell_type": "code",
      "source": [
        "#The following class was used from the github link above.\n",
        "#We claim no ownership over the code\n",
        "\n",
        "class BasicBlock(nn.Module):\n",
        "    expansion = 1\n",
        "\n",
        "    def __init__(self, in_planes, planes, stride=1):\n",
        "        super(BasicBlock, self).__init__()\n",
        "        self.conv1 = nn.Conv2d(\n",
        "            in_planes, planes, kernel_size=3, stride=stride, padding=1, bias=False) #Here is where we can change the kernal size, stride, and padding\n",
        "        self.bn1 = nn.BatchNorm2d(planes)\n",
        "        self.relu1 = nn.ReLU(inplace=True)\n",
        "        self.conv2 = nn.Conv2d(planes, planes, kernel_size=3,\n",
        "                               stride=1, padding=1, bias=False)  #Here is where we can change the kernal size, stride, and padding\n",
        "        self.bn2 = nn.BatchNorm2d(planes)\n",
        "        \n",
        "        self.shortcut = nn.Sequential()\n",
        "        if stride != 1 or in_planes != self.expansion*planes:\n",
        "            self.shortcut = nn.Sequential(\n",
        "                nn.Conv2d(in_planes, self.expansion*planes,\n",
        "                          kernel_size=1, stride=stride, bias=False),\n",
        "                nn.BatchNorm2d(self.expansion*planes)\n",
        "            )\n",
        "          \n",
        "\n",
        "    def forward(self, x):\n",
        "        out = F.relu(self.bn1(self.conv1(x)))\n",
        "        out = self.bn2(self.conv2(out))\n",
        "        out += self.shortcut(x)\n",
        "        out = F.relu(out)\n",
        "        return out\n",
        "\n",
        "#The following class was used from the github link above.\n",
        "#We claim no ownership over the code\n",
        "\n",
        "class ResNet(nn.Module):\n",
        "    def __init__(self, block, num_blocks, num_classes=10):\n",
        "        super(ResNet, self).__init__()\n",
        "        self.in_planes = 64\n",
        "\n",
        "        self.conv1 = nn.Conv2d(3, 64, kernel_size=3,\n",
        "                               stride=1, padding=1, bias=False)\n",
        "        self.bn1 = nn.BatchNorm2d(64)\n",
        "        self.layer1 = self._make_layer(block, 64, num_blocks[0], stride=1) #Here we can change the output size from the initial block\n",
        "        self.layer2 = self._make_layer(block, 128, num_blocks[1], stride=1)#Here we can change the output size from the initial block\n",
        "        self.layer3 = self._make_layer(block, 256, num_blocks[2], stride=2)#Here we can change the output size from the initial block\n",
        "        #self.layer4 = self._make_layer(block, 512, num_blocks[3], stride=2)#Here we can change the output size from the initial block\n",
        "        self.linear = nn.Linear(512*block.expansion, num_classes)\n",
        "\n",
        "    def _make_layer(self, block, planes, num_blocks, stride):\n",
        "        strides = [stride] + [1]*(num_blocks-1)\n",
        "        layers = []\n",
        "        for stride in strides:\n",
        "            layers.append(block(self.in_planes, planes, stride))\n",
        "            self.in_planes = planes * block.expansion\n",
        "        return nn.Sequential(*layers)\n",
        "\n",
        "    def forward(self, x):\n",
        "        out = F.relu(self.bn1(self.conv1(x)))\n",
        "        out = self.layer1(out)\n",
        "        out = self.layer2(out)\n",
        "        out = self.layer3(out)\n",
        "        out = self.layer4(out)\n",
        "        out = F.avg_pool2d(out, 4) #Here we can change the pooling by adding more of these lines to the forward pass\n",
        "        out = out.view(out.size(0), -1)\n",
        "        out = self.linear(out)\n",
        "        return out\n"
      ],
      "metadata": {
        "id": "bLPKuqLHGq0I"
      },
      "execution_count": null,
      "outputs": []
    },
    {
      "cell_type": "code",
      "source": [
        "#We now need to create a variable to hold the instant of the model\n",
        "#We will use the defalut inputs to the model that were in the \n",
        "#Code from the codebase in github: https://github.com/kuangliu/pytorch-cifar\n",
        "\n",
        "model = ResNet(BasicBlock, [2,1, 1, 1]) #This lets you change the number of layers in each block. This setting gets the parameters below 5M\n"
      ],
      "metadata": {
        "id": "Hyovz3o6JzFp"
      },
      "execution_count": null,
      "outputs": []
    },
    {
      "cell_type": "markdown",
      "source": [
        "Now we will use the code from Homework 2 Question 4 to define the learning rate, the loss function, and the device we will use for the model"
      ],
      "metadata": {
        "id": "fHjGQWweNYfO"
      }
    },
    {
      "cell_type": "code",
      "source": [
        "#The following code is from Homework 2 Problem 4\n",
        "\n",
        "optimizer = optim.Adam(model.parameters(), lr = 1e-3)\n",
        "device = torch.device('cuda' if torch.cuda.is_available() else 'cpu')\n",
        "criterion = nn.CrossEntropyLoss()\n",
        "\n",
        "model = model.to(device)\n",
        "criterion = criterion.to(device)\n"
      ],
      "metadata": {
        "id": "GoKtjelzNVco"
      },
      "execution_count": null,
      "outputs": []
    },
    {
      "cell_type": "code",
      "source": [
        "#In order to check the number of trainable parameters, we will use the torchsummary package\n",
        "\n",
        "import torchsummary\n",
        "\n",
        "torchsummary.summary(model,(3, 28, 28), 256)"
      ],
      "metadata": {
        "colab": {
          "base_uri": "https://localhost:8080/"
        },
        "id": "lFjNfA-XKV9E",
        "outputId": "ae8e6c88-4b94-4dbd-a3ad-7850e67f1faf"
      },
      "execution_count": null,
      "outputs": [
        {
          "output_type": "stream",
          "name": "stdout",
          "text": [
            "----------------------------------------------------------------\n",
            "        Layer (type)               Output Shape         Param #\n",
            "================================================================\n",
            "            Conv2d-1          [256, 64, 28, 28]           1,728\n",
            "       BatchNorm2d-2          [256, 64, 28, 28]             128\n",
            "            Conv2d-3          [256, 64, 28, 28]          36,864\n",
            "       BatchNorm2d-4          [256, 64, 28, 28]             128\n",
            "            Conv2d-5          [256, 64, 28, 28]          36,864\n",
            "       BatchNorm2d-6          [256, 64, 28, 28]             128\n",
            "        BasicBlock-7          [256, 64, 28, 28]               0\n",
            "            Conv2d-8          [256, 64, 28, 28]          36,864\n",
            "       BatchNorm2d-9          [256, 64, 28, 28]             128\n",
            "           Conv2d-10          [256, 64, 28, 28]          36,864\n",
            "      BatchNorm2d-11          [256, 64, 28, 28]             128\n",
            "       BasicBlock-12          [256, 64, 28, 28]               0\n",
            "           Conv2d-13         [256, 128, 28, 28]          73,728\n",
            "      BatchNorm2d-14         [256, 128, 28, 28]             256\n",
            "           Conv2d-15         [256, 128, 28, 28]         147,456\n",
            "      BatchNorm2d-16         [256, 128, 28, 28]             256\n",
            "           Conv2d-17         [256, 128, 28, 28]           8,192\n",
            "      BatchNorm2d-18         [256, 128, 28, 28]             256\n",
            "       BasicBlock-19         [256, 128, 28, 28]               0\n",
            "           Conv2d-20         [256, 256, 14, 14]         294,912\n",
            "      BatchNorm2d-21         [256, 256, 14, 14]             512\n",
            "           Conv2d-22         [256, 256, 14, 14]         589,824\n",
            "      BatchNorm2d-23         [256, 256, 14, 14]             512\n",
            "           Conv2d-24         [256, 256, 14, 14]          32,768\n",
            "      BatchNorm2d-25         [256, 256, 14, 14]             512\n",
            "       BasicBlock-26         [256, 256, 14, 14]               0\n",
            "           Conv2d-27           [256, 512, 7, 7]       1,179,648\n",
            "      BatchNorm2d-28           [256, 512, 7, 7]           1,024\n",
            "           Conv2d-29           [256, 512, 7, 7]       2,359,296\n",
            "      BatchNorm2d-30           [256, 512, 7, 7]           1,024\n",
            "           Conv2d-31           [256, 512, 7, 7]         131,072\n",
            "      BatchNorm2d-32           [256, 512, 7, 7]           1,024\n",
            "       BasicBlock-33           [256, 512, 7, 7]               0\n",
            "           Linear-34                  [256, 10]           5,130\n",
            "================================================================\n",
            "Total params: 4,977,226\n",
            "Trainable params: 4,977,226\n",
            "Non-trainable params: 0\n",
            "----------------------------------------------------------------\n",
            "Input size (MB): 2.30\n",
            "Forward/backward pass size (MB): 3577.02\n",
            "Params size (MB): 18.99\n",
            "Estimated Total Size (MB): 3598.30\n",
            "----------------------------------------------------------------\n"
          ]
        }
      ]
    },
    {
      "cell_type": "markdown",
      "source": [
        "# **Create Training modules**\n",
        "We will now use the boilerplate code from class to help train and calculate the loss and accuracy of each training epoch"
      ],
      "metadata": {
        "id": "IcwHUtuoOzB-"
      }
    },
    {
      "cell_type": "code",
      "source": [
        "#The following code is from Homework 2 Problem 4\n",
        "def calculate_accuracy(y_pred, y):\n",
        "    top_pred = y_pred.argmax(1, keepdim = True)\n",
        "    correct = top_pred.eq(y.view_as(top_pred)).sum()\n",
        "    acc = correct.float() / y.shape[0]\n",
        "    return acc"
      ],
      "metadata": {
        "id": "qk6UIfFaPNpR"
      },
      "execution_count": null,
      "outputs": []
    },
    {
      "cell_type": "code",
      "source": [
        "#The following code is from Homework 2 Problem 4\n",
        "def train(model, iterator, optimizer, criterion, device):\n",
        "    \n",
        "    epoch_loss = 0\n",
        "    epoch_acc = 0\n",
        "    \n",
        "    model.train()\n",
        "    \n",
        "    for (x, y) in iterator:\n",
        "        \n",
        "        #print(x.shape)\n",
        "\n",
        "        x = x.to(device)\n",
        "        y = y.to(device)\n",
        "        \n",
        "        optimizer.zero_grad()\n",
        "                \n",
        "        y_pred = model(x)\n",
        "        \n",
        "        loss = criterion(y_pred, y)\n",
        "        \n",
        "        acc = calculate_accuracy(y_pred, y)\n",
        "        \n",
        "        loss.backward()\n",
        "        \n",
        "        optimizer.step()\n",
        "        \n",
        "        epoch_loss += loss.item()\n",
        "        epoch_acc += acc.item()\n",
        "        \n",
        "    return epoch_loss / len(iterator), epoch_acc / len(iterator)"
      ],
      "metadata": {
        "id": "AB1GFxmFPQ-_"
      },
      "execution_count": null,
      "outputs": []
    },
    {
      "cell_type": "code",
      "source": [
        "#The following code is from Homework 2 Problem 4\n",
        "\n",
        "def evaluate(model, iterator, criterion, device):\n",
        "    \n",
        "    epoch_loss = 0\n",
        "    epoch_acc = 0\n",
        "    \n",
        "    model.eval()\n",
        "    \n",
        "    with torch.no_grad():\n",
        "        \n",
        "        for (x, y) in iterator:\n",
        "            x = x.to(device)\n",
        "            y = y.to(device)\n",
        "\n",
        "            y_pred = model(x)\n",
        "\n",
        "            loss = criterion(y_pred, y)\n",
        "\n",
        "            acc = calculate_accuracy(y_pred, y)\n",
        "\n",
        "            epoch_loss += loss.item()\n",
        "            epoch_acc += acc.item()\n",
        "        \n",
        "    return epoch_loss / len(iterator), epoch_acc / len(iterator)"
      ],
      "metadata": {
        "id": "fFErbO9EPUcW"
      },
      "execution_count": null,
      "outputs": []
    },
    {
      "cell_type": "code",
      "source": [
        "#The following code is from Homework 2 Question 4\n",
        "#There have been modifications to the code with the answers \n",
        "#From Jacob Fishman's Code that he submitted for the problem\n",
        "\n",
        "# Print out training and validation loss/accuracy of the model after each epoch\n",
        "# Keep track of the model that achieved best validation loss thus far.\n",
        "\n",
        "EPOCHS = 25\n",
        "\n",
        "#I first want to create the variables to hold the best model for use later\n",
        "best_model = None\n",
        "best_loss = float('inf')\n",
        "\n",
        "for i in range(EPOCHS):\n",
        "\n",
        "  #I will loop over for the number of epochs, and each time i will use the defined train and evaluate\n",
        "  #classes that were provided to us. \n",
        "  train_epoch_loss, train_epoch_acc = train(model,train_iterator,optimizer,criterion,device)\n",
        "  vaild_epoch_loss, valid_epoch_acc = evaluate(model,valid_iterator, criterion,device)\n",
        "  \n",
        "  #Now i will print out the valid loss and accuracy \n",
        "  print(f'Epoch: {i+1:02}')\n",
        "  print(f'\\tTrain Loss: {train_epoch_loss:.3f} | Train Acc: {train_epoch_acc*100:.2f}%')\n",
        "  print(f'\\t Val. Loss: {vaild_epoch_loss:.3f} |  Val. Acc: {valid_epoch_acc*100:.2f}%')\n",
        "  \n",
        "  #Here I will save the best model based off of validation loss\n",
        "\n",
        "  if best_model == None: \n",
        "    best_model = torch.save(model.state_dict(),'tensor.pth')\n",
        "    best_loss = vaild_epoch_loss\n",
        "  elif vaild_epoch_loss < best_loss: #can't we just have this condition to store the best model?\n",
        "    best_model = torch.save(model.state_dict(),'tensor.pth')\n",
        "    best_loss = vaild_epoch_loss\n"
      ],
      "metadata": {
        "colab": {
          "base_uri": "https://localhost:8080/"
        },
        "id": "Pvmm898GPZcW",
        "outputId": "df8d9874-baa9-4cf3-83c8-ec91bf966c8b"
      },
      "execution_count": null,
      "outputs": [
        {
          "output_type": "stream",
          "name": "stdout",
          "text": [
            "Epoch: 01\n",
            "\tTrain Loss: 1.430 | Train Acc: 47.62%\n",
            "\t Val. Loss: 1.194 |  Val. Acc: 57.71%\n",
            "Epoch: 02\n",
            "\tTrain Loss: 0.969 | Train Acc: 65.23%\n",
            "\t Val. Loss: 0.928 |  Val. Acc: 67.16%\n",
            "Epoch: 03\n",
            "\tTrain Loss: 0.790 | Train Acc: 71.86%\n",
            "\t Val. Loss: 0.748 |  Val. Acc: 74.19%\n",
            "Epoch: 04\n",
            "\tTrain Loss: 0.665 | Train Acc: 76.42%\n",
            "\t Val. Loss: 0.679 |  Val. Acc: 77.44%\n",
            "Epoch: 05\n",
            "\tTrain Loss: 0.573 | Train Acc: 80.03%\n",
            "\t Val. Loss: 0.783 |  Val. Acc: 74.23%\n",
            "Epoch: 06\n",
            "\tTrain Loss: 0.510 | Train Acc: 82.04%\n",
            "\t Val. Loss: 0.634 |  Val. Acc: 78.91%\n",
            "Epoch: 07\n",
            "\tTrain Loss: 0.465 | Train Acc: 83.79%\n",
            "\t Val. Loss: 0.594 |  Val. Acc: 80.30%\n",
            "Epoch: 08\n",
            "\tTrain Loss: 0.417 | Train Acc: 85.37%\n",
            "\t Val. Loss: 0.554 |  Val. Acc: 82.16%\n",
            "Epoch: 09\n",
            "\tTrain Loss: 0.387 | Train Acc: 86.68%\n",
            "\t Val. Loss: 0.523 |  Val. Acc: 82.66%\n",
            "Epoch: 10\n",
            "\tTrain Loss: 0.359 | Train Acc: 87.36%\n",
            "\t Val. Loss: 0.483 |  Val. Acc: 84.13%\n",
            "Epoch: 11\n",
            "\tTrain Loss: 0.333 | Train Acc: 88.39%\n",
            "\t Val. Loss: 0.520 |  Val. Acc: 83.05%\n",
            "Epoch: 12\n",
            "\tTrain Loss: 0.309 | Train Acc: 89.24%\n",
            "\t Val. Loss: 0.480 |  Val. Acc: 84.11%\n",
            "Epoch: 13\n",
            "\tTrain Loss: 0.290 | Train Acc: 89.91%\n",
            "\t Val. Loss: 0.422 |  Val. Acc: 86.64%\n",
            "Epoch: 14\n",
            "\tTrain Loss: 0.272 | Train Acc: 90.30%\n",
            "\t Val. Loss: 0.416 |  Val. Acc: 87.26%\n",
            "Epoch: 15\n",
            "\tTrain Loss: 0.253 | Train Acc: 91.11%\n",
            "\t Val. Loss: 0.417 |  Val. Acc: 86.48%\n",
            "Epoch: 16\n",
            "\tTrain Loss: 0.238 | Train Acc: 91.69%\n",
            "\t Val. Loss: 0.536 |  Val. Acc: 83.71%\n",
            "Epoch: 17\n",
            "\tTrain Loss: 0.220 | Train Acc: 92.28%\n",
            "\t Val. Loss: 0.397 |  Val. Acc: 87.33%\n",
            "Epoch: 18\n",
            "\tTrain Loss: 0.215 | Train Acc: 92.47%\n",
            "\t Val. Loss: 0.369 |  Val. Acc: 88.04%\n",
            "Epoch: 19\n",
            "\tTrain Loss: 0.198 | Train Acc: 92.93%\n",
            "\t Val. Loss: 0.395 |  Val. Acc: 87.36%\n",
            "Epoch: 20\n",
            "\tTrain Loss: 0.182 | Train Acc: 93.56%\n",
            "\t Val. Loss: 0.379 |  Val. Acc: 88.52%\n",
            "Epoch: 21\n",
            "\tTrain Loss: 0.174 | Train Acc: 93.87%\n",
            "\t Val. Loss: 0.410 |  Val. Acc: 87.87%\n",
            "Epoch: 22\n",
            "\tTrain Loss: 0.165 | Train Acc: 93.95%\n",
            "\t Val. Loss: 0.372 |  Val. Acc: 88.64%\n",
            "Epoch: 23\n",
            "\tTrain Loss: 0.151 | Train Acc: 94.67%\n",
            "\t Val. Loss: 0.438 |  Val. Acc: 87.31%\n",
            "Epoch: 24\n",
            "\tTrain Loss: 0.149 | Train Acc: 94.66%\n",
            "\t Val. Loss: 0.387 |  Val. Acc: 88.88%\n",
            "Epoch: 25\n",
            "\tTrain Loss: 0.141 | Train Acc: 95.02%\n",
            "\t Val. Loss: 0.382 |  Val. Acc: 88.84%\n"
          ]
        }
      ]
    },
    {
      "cell_type": "markdown",
      "source": [
        "# **Testing the Best Model**\n",
        "Here we will load in the best model to memory and use it to test on the test set"
      ],
      "metadata": {
        "id": "2GBj-bnbeEou"
      }
    },
    {
      "cell_type": "code",
      "source": [
        "#First we will load the best model by creating an instance of the model then loading the weights into the \n",
        "#dummy model\n",
        "best_model = ResNet(BasicBlock, [2, 1, 1, 1])\n",
        "best_model.load_state_dict(torch.load('tensor.pth'))\n",
        "\n",
        "#Now I will run the best model on the test data\n",
        "best_model = best_model.to(device)\n",
        "test_epoch_loss, test_epoch_acc = evaluate(best_model,test_iterator, criterion,device)\n",
        "print(f'Test Loss: {test_epoch_loss:.3f} | Test Acc: {test_epoch_acc*100:.2f}%')"
      ],
      "metadata": {
        "id": "WNXqhOwyeERo",
        "colab": {
          "base_uri": "https://localhost:8080/"
        },
        "outputId": "52c1d546-4303-4c10-b769-d06fa9aeaeae"
      },
      "execution_count": null,
      "outputs": [
        {
          "output_type": "stream",
          "name": "stdout",
          "text": [
            "Test Loss: 0.374 | Test Acc: 89.42%\n"
          ]
        }
      ]
    },
    {
      "cell_type": "code",
      "source": [
        "#This code is used in Homework 2 Question 4, with the filled out sections by us\n",
        "\n",
        "def get_predictions(model, iterator, device):\n",
        "\n",
        "    model.eval()\n",
        "\n",
        "    labels = []\n",
        "    probs = []\n",
        "\n",
        "    with torch.no_grad():\n",
        "        \n",
        "        for (x, y) in iterator:\n",
        "\n",
        "            x = x.to(device)\n",
        "            y = y.to(device)\n",
        "\n",
        "            y_pred = model(x)\n",
        "            labels.append(y)\n",
        "            probs.append(y_pred)\n",
        "            \n",
        "   \n",
        "    labels = torch.cat(labels, dim = 0)\n",
        "    probs = torch.cat(probs, dim = 0)\n",
        "\n",
        "    return labels, probs"
      ],
      "metadata": {
        "id": "5GEQYiU4eXq4"
      },
      "execution_count": null,
      "outputs": []
    },
    {
      "cell_type": "code",
      "source": [
        "labels, probs = get_predictions(model, test_iterator, device)\n",
        "pred_labels = torch.argmax(probs, 1)\n"
      ],
      "metadata": {
        "id": "6GsiBhsmeg-6"
      },
      "execution_count": null,
      "outputs": []
    },
    {
      "cell_type": "code",
      "source": [
        "#This code block is from the Homework2 Question 4\n",
        "def plot_confusion_matrix(labels, pred_labels, classes):\n",
        "    \n",
        "    fig = plt.figure(figsize = (10, 10));\n",
        "    ax = fig.add_subplot(1, 1, 1);\n",
        "    cm = confusion_matrix(labels, pred_labels);\n",
        "    cm = ConfusionMatrixDisplay(cm, display_labels = classes);\n",
        "    cm.plot(values_format = 'd', cmap = 'Blues', ax = ax)\n",
        "    plt.xticks(rotation = 20)"
      ],
      "metadata": {
        "id": "waosOYZZekjn"
      },
      "execution_count": null,
      "outputs": []
    },
    {
      "cell_type": "code",
      "source": [
        "classes = test_data.classes\n",
        "labels = labels.to(\"cpu\")\n",
        "pred_labels = pred_labels.to(\"cpu\")\n",
        "plot_confusion_matrix(labels, pred_labels, classes) "
      ],
      "metadata": {
        "id": "ZXC3q44Qep-E",
        "colab": {
          "base_uri": "https://localhost:8080/",
          "height": 815
        },
        "outputId": "c03b45c0-f265-40fb-981c-bf1d6c7d232a"
      },
      "execution_count": null,
      "outputs": [
        {
          "output_type": "display_data",
          "data": {
            "text/plain": [
              "<Figure size 1000x1000 with 2 Axes>"
            ],
            "image/png": "[encoded data removed]"
          },
          "metadata": {}
        }
      ]
    }
  ]
}